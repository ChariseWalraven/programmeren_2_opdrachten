{
 "cells": [
  {
   "cell_type": "markdown",
   "metadata": {},
   "source": [
    "## Korte opdrachten: repareer de errors"
   ]
  },
  {
   "cell_type": "markdown",
   "metadata": {},
   "source": [
    "### Probleem 1\n",
    "Ik wil rekenen met een normaalverdeling maar ik krijg een `norm not defined` error? "
   ]
  },
  {
   "cell_type": "code",
   "execution_count": 22,
   "metadata": {},
   "outputs": [
    {
     "data": {
      "text/plain": [
       "0.07656372550983474"
      ]
     },
     "execution_count": 22,
     "metadata": {},
     "output_type": "execute_result"
    }
   ],
   "source": [
    "from scipy.stats import norm\n",
    "\n",
    "norm.cdf(160,170,7)"
   ]
  },
  {
   "cell_type": "markdown",
   "metadata": {},
   "source": [
    "### Probleem 2\n",
    "Ik wil een lijst van dictionaries maken, maar ik heb een syntaxfout gemaakt. Waar zit ie? \n"
   ]
  },
  {
   "cell_type": "code",
   "execution_count": 23,
   "metadata": {},
   "outputs": [],
   "source": [
    "data = [\n",
    "        {\n",
    "        \"class\": \"1A\",\n",
    "        \"average_students_present\": 12,\n",
    "        \"time\": \"1.30PM\"\n",
    "        }, \n",
    "        {\"class\": \"1D\",\n",
    "        \"average_students_present\": 8,\n",
    "        \"time\": \"9AM\"\n",
    "        }\n",
    "    ]"
   ]
  },
  {
   "cell_type": "markdown",
   "metadata": {},
   "source": [
    "### Probleem 3\n",
    "Ik wil alle waardes uit mijn lijst van dictionaries printen, maar er is wat aan de hand, de code snapt niet dat er een key-value pair is."
   ]
  },
  {
   "cell_type": "code",
   "execution_count": 24,
   "metadata": {},
   "outputs": [
    {
     "name": "stdout",
     "output_type": "stream",
     "text": [
      "1A\n",
      "12\n",
      "1.30PM\n",
      "1D\n",
      "8\n",
      "9AM\n"
     ]
    }
   ],
   "source": [
    "for classes in data:\n",
    "    for key, value in classes.items():\n",
    "        print(value)"
   ]
  },
  {
   "cell_type": "markdown",
   "metadata": {},
   "source": [
    "### Probleem 4\n",
    "Ik heb een class gemaakt, maar er zijn meerdere dingen die niet kloppen. Zorg ervoor dat het dit print: \n",
    "\n",
    "Pepper\n",
    "\n",
    "8 jaar oud\n",
    "\n",
    "Pepper (kat) slaapt liever.\n",
    "\n",
    "Salt (kat) is lekker aan het spelen!\n",
    "\n",
    "Salt is aan het eten! Omnomnom!"
   ]
  },
  {
   "cell_type": "code",
   "execution_count": 25,
   "metadata": {},
   "outputs": [
    {
     "name": "stdout",
     "output_type": "stream",
     "text": [
      "Pepper\n",
      "8 jaar oud\n",
      "Pepper (kat) slaapt liever.\n",
      "\n",
      "Salt (kat) is lekker aan het spelen!\n",
      "Salt is aan het eten! Omnomnom!\n"
     ]
    }
   ],
   "source": [
    "# deze is wat groter, meerdere dingen kloppen niet, doe het error voor error!\n",
    "\n",
    "class Huisdier:\n",
    "    def __init__(self, naam, leeftijd, soort='kat'):\n",
    "        self.naam = naam\n",
    "        self.leeftijd = leeftijd\n",
    "        self.soort = soort\n",
    "    \n",
    "    def spelen(self):\n",
    "        if self.soort == \"kat\":\n",
    "            if self.leeftijd < 6:\n",
    "                return f\"{self.naam} ({self.soort}) is lekker aan het spelen!\"\n",
    "            else:\n",
    "                return f\"{self.naam} ({self.soort}) slaapt liever.\"\n",
    "        else:\n",
    "            return f\"{self.naam} is aan het spelen.\"\n",
    "        \n",
    "    def eten(self):\n",
    "        return f\"{self.naam} is aan het eten! Omnomnom!\"\n",
    "    \n",
    "salt = Huisdier(\"Salt\", 1.5, \"kat\")\n",
    "pepper = Huisdier(\"Pepper\", 8)\n",
    "\n",
    "print(pepper.naam)\n",
    "print(pepper.leeftijd, \"jaar oud\")\n",
    "print(pepper.spelen())\n",
    "print()\n",
    "print(salt.spelen())\n",
    "print(salt.eten())\n",
    "\n",
    "        "
   ]
  },
  {
   "cell_type": "markdown",
   "metadata": {},
   "source": [
    "## Werken met Pandas en de dataset df_data hierboven - scavenger hunt! \n",
    "Het doel is, is dat je de dataset gaat verkennen met pandas.\n",
    "Eerst ga je de opgaven zelf maken, aan het einde wordt een mentimeter geopend, en kan je de antwoorden in gaan vullen. Elke keer zullen we het antwoord nabespreken. \n",
    "\n"
   ]
  },
  {
   "cell_type": "code",
   "execution_count": 26,
   "metadata": {},
   "outputs": [
    {
     "data": {
      "text/plain": [
       "Index(['show_id', 'type', 'title', 'director', 'cast', 'country', 'date_added',\n",
       "       'release_year', 'rating', 'duration', 'listed_in', 'description'],\n",
       "      dtype='object')"
      ]
     },
     "execution_count": 26,
     "metadata": {},
     "output_type": "execute_result"
    }
   ],
   "source": [
    "# csv inladen.\n",
    "# brightspace: NetflixMovies_Les5.csv, zet het in hetzelfde mapje als deze file\n",
    "\n",
    "import pandas as pd\n",
    "\n",
    "data = pd.read_csv(\"NetflixMovies.csv\")\n",
    "movies_df = pd.DataFrame(data).drop(\"Unnamed: 0\", axis=1)\n",
    "movies_df.columns"
   ]
  },
  {
   "cell_type": "markdown",
   "metadata": {},
   "source": [
    "### Opdrachten Netflix Movies\n",
    "\n",
    "1. Wat is de titel van de film met de langste duration?\n",
    "2. Wie is de director van de film \"Her\"?\n",
    "3. Wie is de director van de film met de op 9 na (dus 10e plek) korste duration?\n",
    "4. Hoeveel films heeft Dennis Dugan geregisseerd (director)?\n",
    "5. Hoeveel films zijn er in Nederland gefilmd?\n",
    "6. Uitdaging: in hoeveel films heeft Adam Sandler de hoofdrol (als eerste genoemd in de 'cast')?\n",
    "7. In welk jaar werden de meeste films uitgebracht?\n",
    "8. Van dat jaar (antwoord op vraag 7), welke director komt daar het vaakst voor?"
   ]
  },
  {
   "cell_type": "markdown",
   "metadata": {},
   "source": []
  },
  {
   "cell_type": "code",
   "execution_count": 33,
   "metadata": {},
   "outputs": [
    {
     "data": {
      "text/plain": [
       "1287    The School of Mischief\n",
       "Name: title, dtype: object"
      ]
     },
     "execution_count": 33,
     "metadata": {},
     "output_type": "execute_result"
    }
   ],
   "source": [
    "# 1. langste film titel\n",
    "longest_movie = movies_df[movies_df[\"duration\"] == movies_df[\"duration\"].max()]\n",
    "longest_movie[\"title\"]"
   ]
  },
  {
   "cell_type": "code",
   "execution_count": 35,
   "metadata": {},
   "outputs": [
    {
     "data": {
      "text/plain": [
       "3905    Spike Jonze\n",
       "Name: director, dtype: object"
      ]
     },
     "execution_count": 35,
     "metadata": {},
     "output_type": "execute_result"
    }
   ],
   "source": [
    "# 2. director van 'Her'\n",
    "her = movies_df[movies_df['title'] == 'Her']\n",
    "her['director']"
   ]
  },
  {
   "cell_type": "code",
   "execution_count": 46,
   "metadata": {},
   "outputs": [
    {
     "data": {
      "text/html": [
       "<div>\n",
       "<style scoped>\n",
       "    .dataframe tbody tr th:only-of-type {\n",
       "        vertical-align: middle;\n",
       "    }\n",
       "\n",
       "    .dataframe tbody tr th {\n",
       "        vertical-align: top;\n",
       "    }\n",
       "\n",
       "    .dataframe thead th {\n",
       "        text-align: right;\n",
       "    }\n",
       "</style>\n",
       "<table border=\"1\" class=\"dataframe\">\n",
       "  <thead>\n",
       "    <tr style=\"text-align: right;\">\n",
       "      <th></th>\n",
       "      <th>show_id</th>\n",
       "      <th>type</th>\n",
       "      <th>title</th>\n",
       "      <th>director</th>\n",
       "      <th>cast</th>\n",
       "      <th>country</th>\n",
       "      <th>date_added</th>\n",
       "      <th>release_year</th>\n",
       "      <th>rating</th>\n",
       "      <th>duration</th>\n",
       "      <th>listed_in</th>\n",
       "      <th>description</th>\n",
       "    </tr>\n",
       "  </thead>\n",
       "  <tbody>\n",
       "    <tr>\n",
       "      <th>1768</th>\n",
       "      <td>s3367</td>\n",
       "      <td>Movie</td>\n",
       "      <td>Little Miss Sumo</td>\n",
       "      <td>Matt Kay</td>\n",
       "      <td>Hiyori Kon</td>\n",
       "      <td>United Kingdom</td>\n",
       "      <td>October 28, 2019</td>\n",
       "      <td>2018</td>\n",
       "      <td>TV-G</td>\n",
       "      <td>20</td>\n",
       "      <td>Documentaries, International Movies, Sports Mo...</td>\n",
       "      <td>In an ancient sport traditionally reserved for...</td>\n",
       "    </tr>\n",
       "  </tbody>\n",
       "</table>\n",
       "</div>"
      ],
      "text/plain": [
       "     show_id   type             title  director        cast         country  \\\n",
       "1768   s3367  Movie  Little Miss Sumo  Matt Kay  Hiyori Kon  United Kingdom   \n",
       "\n",
       "            date_added  release_year rating  duration  \\\n",
       "1768  October 28, 2019          2018   TV-G        20   \n",
       "\n",
       "                                              listed_in  \\\n",
       "1768  Documentaries, International Movies, Sports Mo...   \n",
       "\n",
       "                                            description  \n",
       "1768  In an ancient sport traditionally reserved for...  "
      ]
     },
     "execution_count": 46,
     "metadata": {},
     "output_type": "execute_result"
    }
   ],
   "source": [
    "# 3. Wie is de director van de film met de op 9 na (dus 10e plek) korste duration?\n",
    "tenth_shortest_film = movies_df.sort_values('duration').iloc[[9]]\n",
    "tenth_shortest_film\n"
   ]
  },
  {
   "cell_type": "code",
   "execution_count": 54,
   "metadata": {},
   "outputs": [
    {
     "data": {
      "text/plain": [
       "4"
      ]
     },
     "execution_count": 54,
     "metadata": {},
     "output_type": "execute_result"
    }
   ],
   "source": [
    "# 4. Hoeveel films heeft Dennis Dugan geregisseerd (director)?\n",
    "len(movies_df[movies_df['director'].str.contains('Dennis Dugan')])"
   ]
  },
  {
   "cell_type": "code",
   "execution_count": 56,
   "metadata": {},
   "outputs": [
    {
     "data": {
      "text/plain": [
       "35"
      ]
     },
     "execution_count": 56,
     "metadata": {},
     "output_type": "execute_result"
    }
   ],
   "source": [
    "# 5. Hoeveel films zijn er in Nederland gefilmd?\n",
    "len(movies_df[movies_df['country'].str.contains('Netherlands')])"
   ]
  },
  {
   "cell_type": "code",
   "execution_count": 57,
   "metadata": {},
   "outputs": [
    {
     "data": {
      "text/plain": [
       "20"
      ]
     },
     "execution_count": 57,
     "metadata": {},
     "output_type": "execute_result"
    }
   ],
   "source": [
    "# 6. Uitdaging: in hoeveel films heeft Adam Sandler de hoofdrol (als eerste genoemd in de 'cast')?\n",
    "len(movies_df[movies_df['cast'].str.startswith('Adam Sandler')])"
   ]
  },
  {
   "cell_type": "code",
   "execution_count": 110,
   "metadata": {},
   "outputs": [
    {
     "data": {
      "text/plain": [
       "2017"
      ]
     },
     "execution_count": 110,
     "metadata": {},
     "output_type": "execute_result"
    }
   ],
   "source": [
    "# 7. In welk jaar werden de meeste films uitgebracht?\n",
    "# ask for feedback - this seems like a weird way to do this. What would be better?\n",
    "# movies_df.head()\n",
    "movies_df['release_year'].value_counts().iloc[[0]] \n",
    "# returns:\n",
    "# year\n",
    "# 2017 640\n",
    "movies_df['release_year'].mode()[0] \n",
    "# returns:\n",
    "# 2017"
   ]
  },
  {
   "cell_type": "code",
   "execution_count": 109,
   "metadata": {},
   "outputs": [
    {
     "data": {
      "text/plain": [
       "'Marcus Raboy'"
      ]
     },
     "execution_count": 109,
     "metadata": {},
     "output_type": "execute_result"
    }
   ],
   "source": [
    "# 8. Van dat jaar (antwoord op vraag 7), welke director komt daar het vaakst voor?\n",
    "movies_df[movies_df['release_year'] == 2017]['director'].value_counts().iloc[[0]]\n",
    "# returns:\n",
    "# director\n",
    "# Marcus Raboy    6\n",
    "\n",
    "movies_df[movies_df['release_year'] == 2017]['director'].mode()[0]\n",
    "# returns:\n",
    "# 'Marcus Raboy'"
   ]
  }
 ],
 "metadata": {
  "kernelspec": {
   "display_name": "base",
   "language": "python",
   "name": "python3"
  },
  "language_info": {
   "codemirror_mode": {
    "name": "ipython",
    "version": 3
   },
   "file_extension": ".py",
   "mimetype": "text/x-python",
   "name": "python",
   "nbconvert_exporter": "python",
   "pygments_lexer": "ipython3",
   "version": "3.12.2"
  }
 },
 "nbformat": 4,
 "nbformat_minor": 2
}
