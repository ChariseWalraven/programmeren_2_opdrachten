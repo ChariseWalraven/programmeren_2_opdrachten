{
 "cells": [
  {
   "cell_type": "markdown",
   "metadata": {},
   "source": [
    "## Korte opdrachten: repareer de errors"
   ]
  },
  {
   "cell_type": "markdown",
   "metadata": {},
   "source": [
    "### Probleem 1\n",
    "Ik wil rekenen met een normaalverdeling maar ik krijg een `norm not defined` error? "
   ]
  },
  {
   "cell_type": "code",
   "execution_count": 1,
   "metadata": {},
   "outputs": [
    {
     "data": {
      "text/plain": [
       "0.07656372550983474"
      ]
     },
     "execution_count": 1,
     "metadata": {},
     "output_type": "execute_result"
    }
   ],
   "source": [
    "from scipy.stats import norm\n",
    "\n",
    "norm.cdf(160,170,7)"
   ]
  },
  {
   "cell_type": "markdown",
   "metadata": {},
   "source": [
    "### Probleem 2\n",
    "Ik wil een lijst van dictionaries maken, maar ik heb een syntaxfout gemaakt. Waar zit ie? \n"
   ]
  },
  {
   "cell_type": "code",
   "execution_count": 2,
   "metadata": {},
   "outputs": [],
   "source": [
    "data = [\n",
    "        {\n",
    "        \"class\": \"1A\",\n",
    "        \"average_students_present\": 12,\n",
    "        \"time\": \"1.30PM\"\n",
    "        }, \n",
    "        {\"class\": \"1D\",\n",
    "        \"average_students_present\": 8,\n",
    "        \"time\": \"9AM\"\n",
    "        }\n",
    "    ]"
   ]
  },
  {
   "cell_type": "markdown",
   "metadata": {},
   "source": [
    "### Probleem 3\n",
    "Ik wil alle waardes uit mijn lijst van dictionaries printen, maar er is wat aan de hand, de code snapt niet dat er een key-value pair is."
   ]
  },
  {
   "cell_type": "code",
   "execution_count": 3,
   "metadata": {},
   "outputs": [
    {
     "name": "stdout",
     "output_type": "stream",
     "text": [
      "1A\n",
      "12\n",
      "1.30PM\n",
      "1D\n",
      "8\n",
      "9AM\n"
     ]
    }
   ],
   "source": [
    "for classes in data:\n",
    "    for key, value in classes.items():\n",
    "        print(value)"
   ]
  },
  {
   "cell_type": "markdown",
   "metadata": {},
   "source": [
    "### Probleem 4\n",
    "Ik heb een class gemaakt, maar er zijn meerdere dingen die niet kloppen. Zorg ervoor dat het dit print: \n",
    "\n",
    "Pepper\n",
    "\n",
    "8 jaar oud\n",
    "\n",
    "Pepper (kat) slaapt liever.\n",
    "\n",
    "Salt (kat) is lekker aan het spelen!\n",
    "\n",
    "Salt is aan het eten! Omnomnom!"
   ]
  },
  {
   "cell_type": "code",
   "execution_count": 4,
   "metadata": {},
   "outputs": [
    {
     "name": "stdout",
     "output_type": "stream",
     "text": [
      "Pepper\n",
      "8 jaar oud\n",
      "Pepper (kat) slaapt liever.\n",
      "\n",
      "Salt (kat) is lekker aan het spelen!\n",
      "Salt is aan het eten! Omnomnom!\n"
     ]
    }
   ],
   "source": [
    "# deze is wat groter, meerdere dingen kloppen niet, doe het error voor error!\n",
    "\n",
    "class Huisdier:\n",
    "    def __init__(self, naam, leeftijd, soort='kat'):\n",
    "        self.naam = naam\n",
    "        self.leeftijd = leeftijd\n",
    "        self.soort = soort\n",
    "    \n",
    "    def spelen(self):\n",
    "        if self.soort == \"kat\":\n",
    "            if self.leeftijd < 6:\n",
    "                return f\"{self.naam} ({self.soort}) is lekker aan het spelen!\"\n",
    "            else:\n",
    "                return f\"{self.naam} ({self.soort}) slaapt liever.\"\n",
    "        else:\n",
    "            return f\"{self.naam} is aan het spelen.\"\n",
    "        \n",
    "    def eten(self):\n",
    "        return f\"{self.naam} is aan het eten! Omnomnom!\"\n",
    "    \n",
    "salt = Huisdier(\"Salt\", 1.5, \"kat\")\n",
    "pepper = Huisdier(\"Pepper\", 8)\n",
    "\n",
    "print(pepper.naam)\n",
    "print(pepper.leeftijd, \"jaar oud\")\n",
    "print(pepper.spelen())\n",
    "print()\n",
    "print(salt.spelen())\n",
    "print(salt.eten())\n",
    "\n",
    "        "
   ]
  },
  {
   "cell_type": "markdown",
   "metadata": {},
   "source": [
    "## Werken met Pandas en de dataset df_data hierboven - scavenger hunt! \n",
    "Het doel is, is dat je de dataset gaat verkennen met pandas.\n",
    "Eerst ga je de opgaven zelf maken, aan het einde wordt een mentimeter geopend, en kan je de antwoorden in gaan vullen. Elke keer zullen we het antwoord nabespreken. \n",
    "\n"
   ]
  },
  {
   "cell_type": "code",
   "execution_count": 5,
   "metadata": {},
   "outputs": [
    {
     "data": {
      "text/html": [
       "<div>\n",
       "<style scoped>\n",
       "    .dataframe tbody tr th:only-of-type {\n",
       "        vertical-align: middle;\n",
       "    }\n",
       "\n",
       "    .dataframe tbody tr th {\n",
       "        vertical-align: top;\n",
       "    }\n",
       "\n",
       "    .dataframe thead th {\n",
       "        text-align: right;\n",
       "    }\n",
       "</style>\n",
       "<table border=\"1\" class=\"dataframe\">\n",
       "  <thead>\n",
       "    <tr style=\"text-align: right;\">\n",
       "      <th></th>\n",
       "      <th>show_id</th>\n",
       "      <th>type</th>\n",
       "      <th>title</th>\n",
       "      <th>director</th>\n",
       "      <th>cast</th>\n",
       "      <th>country</th>\n",
       "      <th>date_added</th>\n",
       "      <th>release_year</th>\n",
       "      <th>rating</th>\n",
       "      <th>duration</th>\n",
       "      <th>listed_in</th>\n",
       "      <th>description</th>\n",
       "    </tr>\n",
       "  </thead>\n",
       "  <tbody>\n",
       "    <tr>\n",
       "      <th>1</th>\n",
       "      <td>s8</td>\n",
       "      <td>Movie</td>\n",
       "      <td>Sankofa</td>\n",
       "      <td>Haile Gerima</td>\n",
       "      <td>Kofi Ghanaba, Oyafunmike Ogunlano, Alexandra D...</td>\n",
       "      <td>United States, Ghana, Burkina Faso, United Kin...</td>\n",
       "      <td>September 24, 2021</td>\n",
       "      <td>1993</td>\n",
       "      <td>TV-MA</td>\n",
       "      <td>125</td>\n",
       "      <td>Dramas, Independent Movies, International Movies</td>\n",
       "      <td>On a photo shoot in Ghana, an American model s...</td>\n",
       "    </tr>\n",
       "    <tr>\n",
       "      <th>2</th>\n",
       "      <td>s10</td>\n",
       "      <td>Movie</td>\n",
       "      <td>The Starling</td>\n",
       "      <td>Theodore Melfi</td>\n",
       "      <td>Melissa McCarthy, Chris O'Dowd, Kevin Kline, T...</td>\n",
       "      <td>United States</td>\n",
       "      <td>September 24, 2021</td>\n",
       "      <td>2021</td>\n",
       "      <td>PG-13</td>\n",
       "      <td>104</td>\n",
       "      <td>Comedies, Dramas</td>\n",
       "      <td>A woman adjusting to life after a loss contend...</td>\n",
       "    </tr>\n",
       "  </tbody>\n",
       "</table>\n",
       "</div>"
      ],
      "text/plain": [
       "  show_id   type         title        director  \\\n",
       "1      s8  Movie       Sankofa    Haile Gerima   \n",
       "2     s10  Movie  The Starling  Theodore Melfi   \n",
       "\n",
       "                                                cast  \\\n",
       "1  Kofi Ghanaba, Oyafunmike Ogunlano, Alexandra D...   \n",
       "2  Melissa McCarthy, Chris O'Dowd, Kevin Kline, T...   \n",
       "\n",
       "                                             country          date_added  \\\n",
       "1  United States, Ghana, Burkina Faso, United Kin...  September 24, 2021   \n",
       "2                                      United States  September 24, 2021   \n",
       "\n",
       "   release_year rating  duration  \\\n",
       "1          1993  TV-MA       125   \n",
       "2          2021  PG-13       104   \n",
       "\n",
       "                                          listed_in  \\\n",
       "1  Dramas, Independent Movies, International Movies   \n",
       "2                                  Comedies, Dramas   \n",
       "\n",
       "                                         description  \n",
       "1  On a photo shoot in Ghana, an American model s...  \n",
       "2  A woman adjusting to life after a loss contend...  "
      ]
     },
     "execution_count": 5,
     "metadata": {},
     "output_type": "execute_result"
    }
   ],
   "source": [
    "# csv inladen.\n",
    "# brightspace: NetflixMovies_Les5.csv, zet het in hetzelfde mapje als deze file\n",
    "\n",
    "import pandas as pd\n",
    "\n",
    "movies_df = pd.read_csv(\"NetflixMovies.csv\", index_col=0)\n",
    "movies_df.columns\n",
    "movies_df.head(2)"
   ]
  },
  {
   "cell_type": "markdown",
   "metadata": {},
   "source": [
    "### Opdrachten Netflix Movies\n",
    "\n",
    "1. Wat is de titel van de film met de langste duration?\n",
    "2. Wie is de director van de film \"Her\"?\n",
    "3. Wie is de director van de film met de op 9 na (dus 10e plek) korste duration?\n",
    "4. Hoeveel films heeft Dennis Dugan geregisseerd (director)?\n",
    "5. Hoeveel films zijn er in Nederland gefilmd?\n",
    "6. Uitdaging: in hoeveel films heeft Adam Sandler de hoofdrol (als eerste genoemd in de 'cast')?\n",
    "7. In welk jaar werden de meeste films uitgebracht?\n",
    "8. Van dat jaar (antwoord op vraag 7), welke director komt daar het vaakst voor?"
   ]
  },
  {
   "cell_type": "markdown",
   "metadata": {},
   "source": []
  },
  {
   "cell_type": "code",
   "execution_count": 6,
   "metadata": {},
   "outputs": [
    {
     "data": {
      "text/plain": [
       "1288    The School of Mischief\n",
       "Name: title, dtype: object"
      ]
     },
     "execution_count": 6,
     "metadata": {},
     "output_type": "execute_result"
    }
   ],
   "source": [
    "# 1. langste film titel\n",
    "longest_movie = movies_df[movies_df[\"duration\"] == movies_df[\"duration\"].max()]\n",
    "longest_movie[\"title\"]"
   ]
  },
  {
   "cell_type": "code",
   "execution_count": 7,
   "metadata": {},
   "outputs": [
    {
     "data": {
      "text/plain": [
       "3906    Spike Jonze\n",
       "Name: director, dtype: object"
      ]
     },
     "execution_count": 7,
     "metadata": {},
     "output_type": "execute_result"
    }
   ],
   "source": [
    "# 2. director van 'Her'\n",
    "her = movies_df[movies_df['title'] == 'Her']\n",
    "her['director']"
   ]
  },
  {
   "cell_type": "code",
   "execution_count": 14,
   "metadata": {},
   "outputs": [
    {
     "data": {
      "text/html": [
       "<div>\n",
       "<style scoped>\n",
       "    .dataframe tbody tr th:only-of-type {\n",
       "        vertical-align: middle;\n",
       "    }\n",
       "\n",
       "    .dataframe tbody tr th {\n",
       "        vertical-align: top;\n",
       "    }\n",
       "\n",
       "    .dataframe thead th {\n",
       "        text-align: right;\n",
       "    }\n",
       "</style>\n",
       "<table border=\"1\" class=\"dataframe\">\n",
       "  <thead>\n",
       "    <tr style=\"text-align: right;\">\n",
       "      <th></th>\n",
       "      <th>show_id</th>\n",
       "      <th>type</th>\n",
       "      <th>title</th>\n",
       "      <th>director</th>\n",
       "      <th>cast</th>\n",
       "      <th>country</th>\n",
       "      <th>date_added</th>\n",
       "      <th>release_year</th>\n",
       "      <th>rating</th>\n",
       "      <th>duration</th>\n",
       "      <th>listed_in</th>\n",
       "      <th>description</th>\n",
       "    </tr>\n",
       "  </thead>\n",
       "  <tbody>\n",
       "    <tr>\n",
       "      <th>4759</th>\n",
       "      <td>s8206</td>\n",
       "      <td>Movie</td>\n",
       "      <td>The Battle of Midway</td>\n",
       "      <td>John Ford</td>\n",
       "      <td>Henry Fonda, Jane Darwell</td>\n",
       "      <td>United States</td>\n",
       "      <td>March 31, 2017</td>\n",
       "      <td>1942</td>\n",
       "      <td>TV-14</td>\n",
       "      <td>18</td>\n",
       "      <td>Classic Movies, Documentaries</td>\n",
       "      <td>Director John Ford captures combat footage of ...</td>\n",
       "    </tr>\n",
       "  </tbody>\n",
       "</table>\n",
       "</div>"
      ],
      "text/plain": [
       "     show_id   type                 title   director  \\\n",
       "4759   s8206  Movie  The Battle of Midway  John Ford   \n",
       "\n",
       "                           cast        country      date_added  release_year  \\\n",
       "4759  Henry Fonda, Jane Darwell  United States  March 31, 2017          1942   \n",
       "\n",
       "     rating  duration                      listed_in  \\\n",
       "4759  TV-14        18  Classic Movies, Documentaries   \n",
       "\n",
       "                                            description  \n",
       "4759  Director John Ford captures combat footage of ...  "
      ]
     },
     "execution_count": 14,
     "metadata": {},
     "output_type": "execute_result"
    }
   ],
   "source": [
    "# 3. Wie is de director van de film met de op 9 na (dus 10e plek) korste duration?\n",
    "tenth_shortest_film = movies_df.sort_values('duration').iloc[[8]]\n",
    "tenth_shortest_film\n"
   ]
  },
  {
   "cell_type": "code",
   "execution_count": 19,
   "metadata": {},
   "outputs": [
    {
     "data": {
      "text/plain": [
       "4"
      ]
     },
     "execution_count": 19,
     "metadata": {},
     "output_type": "execute_result"
    }
   ],
   "source": [
    "# 4. Hoeveel films heeft Dennis Dugan geregisseerd (director)?\n",
    "# len(movies_df[movies_df['director'].str.contains('Dennis Dugan')])\n",
    "movies_df.value_counts('director')['Dennis Dugan']"
   ]
  },
  {
   "cell_type": "code",
   "execution_count": 32,
   "metadata": {},
   "outputs": [
    {
     "data": {
      "text/plain": [
       "35"
      ]
     },
     "execution_count": 32,
     "metadata": {},
     "output_type": "execute_result"
    }
   ],
   "source": [
    "# 5. Hoeveel films zijn er in Nederland gefilmd?\n",
    "# len(movies_df[movies_df['country'].str.contains('Netherlands')])\n",
    "movies_df[movies_df['country'].str.contains('Netherlands')].count().iloc[0]"
   ]
  },
  {
   "cell_type": "code",
   "execution_count": 35,
   "metadata": {},
   "outputs": [
    {
     "data": {
      "text/plain": [
       "20"
      ]
     },
     "execution_count": 35,
     "metadata": {},
     "output_type": "execute_result"
    }
   ],
   "source": [
    "# 6. Uitdaging: in hoeveel films heeft Adam Sandler de hoofdrol (als eerste genoemd in de 'cast')?\n",
    "# len(movies_df[movies_df['cast'].str.startswith('Adam Sandler')])\n",
    "movies_df[movies_df['cast'].str.startswith('Adam Sandler')].count().iloc[0]"
   ]
  },
  {
   "cell_type": "code",
   "execution_count": 12,
   "metadata": {},
   "outputs": [
    {
     "data": {
      "text/plain": [
       "2017"
      ]
     },
     "execution_count": 12,
     "metadata": {},
     "output_type": "execute_result"
    }
   ],
   "source": [
    "# 7. In welk jaar werden de meeste films uitgebracht?\n",
    "# ask for feedback - this seems like a weird way to do this. What would be better?\n",
    "# movies_df.head()\n",
    "movies_df['release_year'].value_counts().iloc[[0]] \n",
    "# returns:\n",
    "# year\n",
    "# 2017 640\n",
    "movies_df['release_year'].mode()[0] \n",
    "# returns:\n",
    "# 2017"
   ]
  },
  {
   "cell_type": "code",
   "execution_count": 13,
   "metadata": {},
   "outputs": [
    {
     "data": {
      "text/plain": [
       "'Marcus Raboy'"
      ]
     },
     "execution_count": 13,
     "metadata": {},
     "output_type": "execute_result"
    }
   ],
   "source": [
    "# 8. Van dat jaar (antwoord op vraag 7), welke director komt daar het vaakst voor?\n",
    "movies_df[movies_df['release_year'] == 2017]['director'].value_counts().iloc[[0]]\n",
    "# returns:\n",
    "# director\n",
    "# Marcus Raboy    6\n",
    "\n",
    "movies_df[movies_df['release_year'] == 2017]['director'].mode()[0]\n",
    "# returns:\n",
    "# 'Marcus Raboy'"
   ]
  }
 ],
 "metadata": {
  "kernelspec": {
   "display_name": "base",
   "language": "python",
   "name": "python3"
  },
  "language_info": {
   "codemirror_mode": {
    "name": "ipython",
    "version": 3
   },
   "file_extension": ".py",
   "mimetype": "text/x-python",
   "name": "python",
   "nbconvert_exporter": "python",
   "pygments_lexer": "ipython3",
   "version": "3.12.2"
  }
 },
 "nbformat": 4,
 "nbformat_minor": 2
}
