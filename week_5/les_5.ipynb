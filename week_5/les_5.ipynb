{
 "cells": [
  {
   "cell_type": "markdown",
   "metadata": {},
   "source": [
    "## Korte opdrachten: repareer de errors"
   ]
  },
  {
   "cell_type": "markdown",
   "metadata": {},
   "source": [
    "### Probleem 1\n",
    "Ik wil rekenen met een normaalverdeling maar ik krijg een `norm not defined` error? "
   ]
  },
  {
   "cell_type": "code",
   "execution_count": null,
   "metadata": {},
   "outputs": [],
   "source": [
    "norm.cdf(160,170,7)"
   ]
  },
  {
   "cell_type": "markdown",
   "metadata": {},
   "source": [
    "### Probleem 2\n",
    "Ik wil een lijst van dictionaries maken, maar ik heb een syntaxfout gemaakt. Waar zit ie? \n"
   ]
  },
  {
   "cell_type": "code",
   "execution_count": null,
   "metadata": {},
   "outputs": [],
   "source": [
    "data = [{\"class\": \"1A\", \"average_students_present\": 12, \"time\": \"1.30PM\"} {\"class\": \"1D\", \"average_students_present\": 8, \"time\": \"9AM\"}]"
   ]
  },
  {
   "cell_type": "markdown",
   "metadata": {},
   "source": [
    "### Probleem 3\n",
    "Ik wil alle waardes uit mijn lijst van dictionaries printen, maar er is wat aan de hand, de code snapt niet dat er een key-value pair is."
   ]
  },
  {
   "cell_type": "code",
   "execution_count": null,
   "metadata": {},
   "outputs": [],
   "source": [
    "for classes in data:\n",
    "    for key, value in classes:\n",
    "        print(value)"
   ]
  },
  {
   "cell_type": "markdown",
   "metadata": {},
   "source": [
    "### Probleem 4\n",
    "Ik heb een class gemaakt, maar er zijn meerdere dingen die niet kloppen. Zorg ervoor dat het dit print: \n",
    "\n",
    "Pepper\n",
    "\n",
    "8 jaar oud\n",
    "\n",
    "Pepper (kat) slaapt liever.\n",
    "\n",
    "Salt (kat) is lekker aan het spelen!\n",
    "\n",
    "Salt is aan het eten! Omnomnom!"
   ]
  },
  {
   "cell_type": "code",
   "execution_count": null,
   "metadata": {},
   "outputs": [],
   "source": [
    "#deze is wat groter, meerdere dingen kloppen niet, doe het error voor error!\n",
    "\n",
    "class Huisdier:\n",
    "    def __init__(self, leeftijd, soort):\n",
    "        self.naam = naam\n",
    "        self.leeftijd = leeftijd\n",
    "        self.soort = soort\n",
    "    \n",
    "    def spelen():\n",
    "        if self.soort == \"kat\":\n",
    "            if self.leeftijd < 6:\n",
    "                return f\"{self.naam} ({self.soort}) is lekker aan het spelen!\"\n",
    "            else:\n",
    "                return f\"{self.naam} ({self.soort}) slaapt liever.\"\n",
    "        else:\n",
    "            return f\"{self.naam} is aan het spelen.\"\n",
    "        \n",
    "    def eten(self):\n",
    "        return f\"{self.naam} is aan het eten! Omnomnom!\"\n",
    "    \n",
    "salt = Huisdier(\"Salt\", 1.5, \"kat\")\n",
    "pepper = Huisdier(\"Pepper\", 8)\n",
    "\n",
    "print(pepper.naam)\n",
    "print(pepper.leeftijd, \"jaar oud\")\n",
    "print(pepper.spelen)\n",
    "print()\n",
    "print(salt.spelen())\n",
    "print(salt.eten())\n",
    "\n",
    "        "
   ]
  },
  {
   "cell_type": "markdown",
   "metadata": {},
   "source": [
    "## Werken met Pandas en de dataset df_data hierboven - scavenger hunt! \n",
    "Het doel is, is dat je de dataset gaat verkennen met pandas.\n",
    "Eerst ga je de opgaven zelf maken, aan het einde wordt een mentimeter geopend, en kan je de antwoorden in gaan vullen. Elke keer zullen we het antwoord nabespreken. \n",
    "\n"
   ]
  },
  {
   "cell_type": "code",
   "execution_count": 106,
   "metadata": {},
   "outputs": [
    {
     "data": {
      "text/plain": [
       "Index(['show_id', 'type', 'title', 'director', 'cast', 'country', 'date_added',\n",
       "       'release_year', 'rating', 'duration', 'listed_in', 'description'],\n",
       "      dtype='object')"
      ]
     },
     "execution_count": 106,
     "metadata": {},
     "output_type": "execute_result"
    }
   ],
   "source": [
    "# csv inladen.\n",
    "# brightspace: NetflixMovies_Les5.csv, zet het in hetzelfde mapje als deze file\n",
    "\n",
    "import pandas as pd\n",
    "\n",
    "data = pd.read_csv(\"NetflixMovies_Les5.csv\")\n",
    "df_data = pd.DataFrame(data).drop(\"Unnamed: 0\", axis=1)\n",
    "df_data.columns"
   ]
  },
  {
   "cell_type": "markdown",
   "metadata": {},
   "source": [
    "### Opdrachten Netflix Movies\n",
    "\n",
    "1. Wat is de titel van de film met de langste duration?\n",
    "2. Wie is de director van de film \"Her\"?\n",
    "3. Wie is de director van de film met de op 9 na (dus 10e plek) korste duration?\n",
    "4. Hoeveel films heeft Dennis Dugan geregisseerd (director)?\n",
    "5. Hoeveel films zijn er in Nederland gefilmd?\n",
    "6. Uitdaging: in hoeveel films heeft Adam Sandler de hoofdrol (als eerste genoemd in de 'cast')?\n",
    "7. In welk jaar werden de meeste films uitgebracht?\n",
    "8. Van dat jaar (antwoord op vraag 7), welke director komt daar het vaakst voor?"
   ]
  },
  {
   "cell_type": "markdown",
   "metadata": {},
   "source": []
  }
 ],
 "metadata": {
  "kernelspec": {
   "display_name": "base",
   "language": "python",
   "name": "python3"
  },
  "language_info": {
   "codemirror_mode": {
    "name": "ipython",
    "version": 3
   },
   "file_extension": ".py",
   "mimetype": "text/x-python",
   "name": "python",
   "nbconvert_exporter": "python",
   "pygments_lexer": "ipython3",
   "version": "3.12.7"
  }
 },
 "nbformat": 4,
 "nbformat_minor": 2
}
