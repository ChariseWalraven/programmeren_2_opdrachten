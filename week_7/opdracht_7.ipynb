# 3.b. box plot duration
# BUG: not showing anything
# sfy_df[['Duration_ms']].boxplot(column='Duration_ms') #lukt wel
def jls_extract_def():
    #lukt niet. Waarom? 
    return 


plt.boxplot(sfy_df['Duration_ms']) #lukt niet. Waarom?  = jls_extract_def()
plt.title('Test')
plt.show()
