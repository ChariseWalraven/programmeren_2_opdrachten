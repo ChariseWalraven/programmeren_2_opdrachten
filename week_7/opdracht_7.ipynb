{
 "cells": [
  {
   "cell_type": "markdown",
   "metadata": {},
   "source": [
    "## Opdracht 7"
   ]
  },
  {
   "cell_type": "code",
   "execution_count": 1,
   "metadata": {},
   "outputs": [],
   "source": [
    "import pandas as pd\n",
    "import matplotlib.pyplot as plt"
   ]
  },
  {
   "cell_type": "code",
   "execution_count": 2,
   "metadata": {},
   "outputs": [],
   "source": [
    "sfy_df = pd.read_csv('data/Spotify_Youtube.csv', index_col=0)"
   ]
  },
  {
   "cell_type": "code",
   "execution_count": 3,
   "metadata": {},
   "outputs": [
    {
     "data": {
      "text/html": [
       "<div>\n",
       "<style scoped>\n",
       "    .dataframe tbody tr th:only-of-type {\n",
       "        vertical-align: middle;\n",
       "    }\n",
       "\n",
       "    .dataframe tbody tr th {\n",
       "        vertical-align: top;\n",
       "    }\n",
       "\n",
       "    .dataframe thead th {\n",
       "        text-align: right;\n",
       "    }\n",
       "</style>\n",
       "<table border=\"1\" class=\"dataframe\">\n",
       "  <thead>\n",
       "    <tr style=\"text-align: right;\">\n",
       "      <th></th>\n",
       "      <th>Artist</th>\n",
       "      <th>Url_spotify</th>\n",
       "      <th>Track</th>\n",
       "      <th>Album</th>\n",
       "      <th>Album_type</th>\n",
       "      <th>Uri</th>\n",
       "      <th>Danceability</th>\n",
       "      <th>Energy</th>\n",
       "      <th>Key</th>\n",
       "      <th>Loudness</th>\n",
       "      <th>...</th>\n",
       "      <th>Url_youtube</th>\n",
       "      <th>Title</th>\n",
       "      <th>Channel</th>\n",
       "      <th>Views</th>\n",
       "      <th>Likes</th>\n",
       "      <th>Comments</th>\n",
       "      <th>Description</th>\n",
       "      <th>Licensed</th>\n",
       "      <th>official_video</th>\n",
       "      <th>Stream</th>\n",
       "    </tr>\n",
       "  </thead>\n",
       "  <tbody>\n",
       "    <tr>\n",
       "      <th>0</th>\n",
       "      <td>Gorillaz</td>\n",
       "      <td>https://open.spotify.com/artist/3AA28KZvwAUcZu...</td>\n",
       "      <td>Feel Good Inc.</td>\n",
       "      <td>Demon Days</td>\n",
       "      <td>album</td>\n",
       "      <td>spotify:track:0d28khcov6AiegSCpG5TuT</td>\n",
       "      <td>0.818</td>\n",
       "      <td>0.705</td>\n",
       "      <td>6.0</td>\n",
       "      <td>-6.679</td>\n",
       "      <td>...</td>\n",
       "      <td>https://www.youtube.com/watch?v=HyHNuVaZJ-k</td>\n",
       "      <td>Gorillaz - Feel Good Inc. (Official Video)</td>\n",
       "      <td>Gorillaz</td>\n",
       "      <td>693555221.0</td>\n",
       "      <td>6220896.0</td>\n",
       "      <td>169907.0</td>\n",
       "      <td>Official HD Video for Gorillaz' fantastic trac...</td>\n",
       "      <td>True</td>\n",
       "      <td>True</td>\n",
       "      <td>1.040235e+09</td>\n",
       "    </tr>\n",
       "    <tr>\n",
       "      <th>1</th>\n",
       "      <td>Gorillaz</td>\n",
       "      <td>https://open.spotify.com/artist/3AA28KZvwAUcZu...</td>\n",
       "      <td>Rhinestone Eyes</td>\n",
       "      <td>Plastic Beach</td>\n",
       "      <td>album</td>\n",
       "      <td>spotify:track:1foMv2HQwfQ2vntFf9HFeG</td>\n",
       "      <td>0.676</td>\n",
       "      <td>0.703</td>\n",
       "      <td>8.0</td>\n",
       "      <td>-5.815</td>\n",
       "      <td>...</td>\n",
       "      <td>https://www.youtube.com/watch?v=yYDmaexVHic</td>\n",
       "      <td>Gorillaz - Rhinestone Eyes [Storyboard Film] (...</td>\n",
       "      <td>Gorillaz</td>\n",
       "      <td>72011645.0</td>\n",
       "      <td>1079128.0</td>\n",
       "      <td>31003.0</td>\n",
       "      <td>The official video for Gorillaz - Rhinestone E...</td>\n",
       "      <td>True</td>\n",
       "      <td>True</td>\n",
       "      <td>3.100837e+08</td>\n",
       "    </tr>\n",
       "    <tr>\n",
       "      <th>2</th>\n",
       "      <td>Gorillaz</td>\n",
       "      <td>https://open.spotify.com/artist/3AA28KZvwAUcZu...</td>\n",
       "      <td>New Gold (feat. Tame Impala and Bootie Brown)</td>\n",
       "      <td>New Gold (feat. Tame Impala and Bootie Brown)</td>\n",
       "      <td>single</td>\n",
       "      <td>spotify:track:64dLd6rVqDLtkXFYrEUHIU</td>\n",
       "      <td>0.695</td>\n",
       "      <td>0.923</td>\n",
       "      <td>1.0</td>\n",
       "      <td>-3.930</td>\n",
       "      <td>...</td>\n",
       "      <td>https://www.youtube.com/watch?v=qJa-VFwPpYA</td>\n",
       "      <td>Gorillaz - New Gold ft. Tame Impala &amp; Bootie B...</td>\n",
       "      <td>Gorillaz</td>\n",
       "      <td>8435055.0</td>\n",
       "      <td>282142.0</td>\n",
       "      <td>7399.0</td>\n",
       "      <td>Gorillaz - New Gold ft. Tame Impala &amp; Bootie B...</td>\n",
       "      <td>True</td>\n",
       "      <td>True</td>\n",
       "      <td>6.306347e+07</td>\n",
       "    </tr>\n",
       "    <tr>\n",
       "      <th>3</th>\n",
       "      <td>Gorillaz</td>\n",
       "      <td>https://open.spotify.com/artist/3AA28KZvwAUcZu...</td>\n",
       "      <td>On Melancholy Hill</td>\n",
       "      <td>Plastic Beach</td>\n",
       "      <td>album</td>\n",
       "      <td>spotify:track:0q6LuUqGLUiCPP1cbdwFs3</td>\n",
       "      <td>0.689</td>\n",
       "      <td>0.739</td>\n",
       "      <td>2.0</td>\n",
       "      <td>-5.810</td>\n",
       "      <td>...</td>\n",
       "      <td>https://www.youtube.com/watch?v=04mfKJWDSzI</td>\n",
       "      <td>Gorillaz - On Melancholy Hill (Official Video)</td>\n",
       "      <td>Gorillaz</td>\n",
       "      <td>211754952.0</td>\n",
       "      <td>1788577.0</td>\n",
       "      <td>55229.0</td>\n",
       "      <td>Follow Gorillaz online:\\nhttp://gorillaz.com \\...</td>\n",
       "      <td>True</td>\n",
       "      <td>True</td>\n",
       "      <td>4.346636e+08</td>\n",
       "    </tr>\n",
       "    <tr>\n",
       "      <th>4</th>\n",
       "      <td>Gorillaz</td>\n",
       "      <td>https://open.spotify.com/artist/3AA28KZvwAUcZu...</td>\n",
       "      <td>Clint Eastwood</td>\n",
       "      <td>Gorillaz</td>\n",
       "      <td>album</td>\n",
       "      <td>spotify:track:7yMiX7n9SBvadzox8T5jzT</td>\n",
       "      <td>0.663</td>\n",
       "      <td>0.694</td>\n",
       "      <td>10.0</td>\n",
       "      <td>-8.627</td>\n",
       "      <td>...</td>\n",
       "      <td>https://www.youtube.com/watch?v=1V_xRb0x9aw</td>\n",
       "      <td>Gorillaz - Clint Eastwood (Official Video)</td>\n",
       "      <td>Gorillaz</td>\n",
       "      <td>618480958.0</td>\n",
       "      <td>6197318.0</td>\n",
       "      <td>155930.0</td>\n",
       "      <td>The official music video for Gorillaz - Clint ...</td>\n",
       "      <td>True</td>\n",
       "      <td>True</td>\n",
       "      <td>6.172597e+08</td>\n",
       "    </tr>\n",
       "  </tbody>\n",
       "</table>\n",
       "<p>5 rows × 27 columns</p>\n",
       "</div>"
      ],
      "text/plain": [
       "     Artist                                        Url_spotify  \\\n",
       "0  Gorillaz  https://open.spotify.com/artist/3AA28KZvwAUcZu...   \n",
       "1  Gorillaz  https://open.spotify.com/artist/3AA28KZvwAUcZu...   \n",
       "2  Gorillaz  https://open.spotify.com/artist/3AA28KZvwAUcZu...   \n",
       "3  Gorillaz  https://open.spotify.com/artist/3AA28KZvwAUcZu...   \n",
       "4  Gorillaz  https://open.spotify.com/artist/3AA28KZvwAUcZu...   \n",
       "\n",
       "                                           Track  \\\n",
       "0                                 Feel Good Inc.   \n",
       "1                                Rhinestone Eyes   \n",
       "2  New Gold (feat. Tame Impala and Bootie Brown)   \n",
       "3                             On Melancholy Hill   \n",
       "4                                 Clint Eastwood   \n",
       "\n",
       "                                           Album Album_type  \\\n",
       "0                                     Demon Days      album   \n",
       "1                                  Plastic Beach      album   \n",
       "2  New Gold (feat. Tame Impala and Bootie Brown)     single   \n",
       "3                                  Plastic Beach      album   \n",
       "4                                       Gorillaz      album   \n",
       "\n",
       "                                    Uri  Danceability  Energy   Key  Loudness  \\\n",
       "0  spotify:track:0d28khcov6AiegSCpG5TuT         0.818   0.705   6.0    -6.679   \n",
       "1  spotify:track:1foMv2HQwfQ2vntFf9HFeG         0.676   0.703   8.0    -5.815   \n",
       "2  spotify:track:64dLd6rVqDLtkXFYrEUHIU         0.695   0.923   1.0    -3.930   \n",
       "3  spotify:track:0q6LuUqGLUiCPP1cbdwFs3         0.689   0.739   2.0    -5.810   \n",
       "4  spotify:track:7yMiX7n9SBvadzox8T5jzT         0.663   0.694  10.0    -8.627   \n",
       "\n",
       "   ...                                  Url_youtube  \\\n",
       "0  ...  https://www.youtube.com/watch?v=HyHNuVaZJ-k   \n",
       "1  ...  https://www.youtube.com/watch?v=yYDmaexVHic   \n",
       "2  ...  https://www.youtube.com/watch?v=qJa-VFwPpYA   \n",
       "3  ...  https://www.youtube.com/watch?v=04mfKJWDSzI   \n",
       "4  ...  https://www.youtube.com/watch?v=1V_xRb0x9aw   \n",
       "\n",
       "                                               Title   Channel        Views  \\\n",
       "0         Gorillaz - Feel Good Inc. (Official Video)  Gorillaz  693555221.0   \n",
       "1  Gorillaz - Rhinestone Eyes [Storyboard Film] (...  Gorillaz   72011645.0   \n",
       "2  Gorillaz - New Gold ft. Tame Impala & Bootie B...  Gorillaz    8435055.0   \n",
       "3     Gorillaz - On Melancholy Hill (Official Video)  Gorillaz  211754952.0   \n",
       "4         Gorillaz - Clint Eastwood (Official Video)  Gorillaz  618480958.0   \n",
       "\n",
       "       Likes  Comments                                        Description  \\\n",
       "0  6220896.0  169907.0  Official HD Video for Gorillaz' fantastic trac...   \n",
       "1  1079128.0   31003.0  The official video for Gorillaz - Rhinestone E...   \n",
       "2   282142.0    7399.0  Gorillaz - New Gold ft. Tame Impala & Bootie B...   \n",
       "3  1788577.0   55229.0  Follow Gorillaz online:\\nhttp://gorillaz.com \\...   \n",
       "4  6197318.0  155930.0  The official music video for Gorillaz - Clint ...   \n",
       "\n",
       "  Licensed official_video        Stream  \n",
       "0     True           True  1.040235e+09  \n",
       "1     True           True  3.100837e+08  \n",
       "2     True           True  6.306347e+07  \n",
       "3     True           True  4.346636e+08  \n",
       "4     True           True  6.172597e+08  \n",
       "\n",
       "[5 rows x 27 columns]"
      ]
     },
     "execution_count": 3,
     "metadata": {},
     "output_type": "execute_result"
    }
   ],
   "source": [
    "sfy_df.head()"
   ]
  },
  {
   "cell_type": "code",
   "execution_count": 4,
   "metadata": {},
   "outputs": [
    {
     "data": {
      "text/html": [
       "<div>\n",
       "<style scoped>\n",
       "    .dataframe tbody tr th:only-of-type {\n",
       "        vertical-align: middle;\n",
       "    }\n",
       "\n",
       "    .dataframe tbody tr th {\n",
       "        vertical-align: top;\n",
       "    }\n",
       "\n",
       "    .dataframe thead th {\n",
       "        text-align: right;\n",
       "    }\n",
       "</style>\n",
       "<table border=\"1\" class=\"dataframe\">\n",
       "  <thead>\n",
       "    <tr style=\"text-align: right;\">\n",
       "      <th></th>\n",
       "      <th>Danceability</th>\n",
       "      <th>Energy</th>\n",
       "      <th>Key</th>\n",
       "      <th>Loudness</th>\n",
       "      <th>Speechiness</th>\n",
       "      <th>Acousticness</th>\n",
       "      <th>Instrumentalness</th>\n",
       "      <th>Liveness</th>\n",
       "      <th>Valence</th>\n",
       "      <th>Tempo</th>\n",
       "      <th>Duration_ms</th>\n",
       "      <th>Views</th>\n",
       "      <th>Likes</th>\n",
       "      <th>Comments</th>\n",
       "      <th>Stream</th>\n",
       "    </tr>\n",
       "  </thead>\n",
       "  <tbody>\n",
       "    <tr>\n",
       "      <th>count</th>\n",
       "      <td>20716.000000</td>\n",
       "      <td>20716.000000</td>\n",
       "      <td>20716.000000</td>\n",
       "      <td>20716.000000</td>\n",
       "      <td>20716.000000</td>\n",
       "      <td>20716.000000</td>\n",
       "      <td>20716.000000</td>\n",
       "      <td>20716.000000</td>\n",
       "      <td>20716.000000</td>\n",
       "      <td>20716.000000</td>\n",
       "      <td>2.071600e+04</td>\n",
       "      <td>2.024800e+04</td>\n",
       "      <td>2.017700e+04</td>\n",
       "      <td>2.014900e+04</td>\n",
       "      <td>2.014200e+04</td>\n",
       "    </tr>\n",
       "    <tr>\n",
       "      <th>mean</th>\n",
       "      <td>0.619777</td>\n",
       "      <td>0.635250</td>\n",
       "      <td>5.300348</td>\n",
       "      <td>-7.671680</td>\n",
       "      <td>0.096456</td>\n",
       "      <td>0.291535</td>\n",
       "      <td>0.055962</td>\n",
       "      <td>0.193521</td>\n",
       "      <td>0.529853</td>\n",
       "      <td>120.638340</td>\n",
       "      <td>2.247176e+05</td>\n",
       "      <td>9.393782e+07</td>\n",
       "      <td>6.633411e+05</td>\n",
       "      <td>2.751899e+04</td>\n",
       "      <td>1.359422e+08</td>\n",
       "    </tr>\n",
       "    <tr>\n",
       "      <th>std</th>\n",
       "      <td>0.165272</td>\n",
       "      <td>0.214147</td>\n",
       "      <td>3.576449</td>\n",
       "      <td>4.632749</td>\n",
       "      <td>0.111960</td>\n",
       "      <td>0.286299</td>\n",
       "      <td>0.193262</td>\n",
       "      <td>0.168531</td>\n",
       "      <td>0.245441</td>\n",
       "      <td>29.579018</td>\n",
       "      <td>1.247905e+05</td>\n",
       "      <td>2.746443e+08</td>\n",
       "      <td>1.789324e+06</td>\n",
       "      <td>1.932347e+05</td>\n",
       "      <td>2.441321e+08</td>\n",
       "    </tr>\n",
       "    <tr>\n",
       "      <th>min</th>\n",
       "      <td>0.000000</td>\n",
       "      <td>0.000020</td>\n",
       "      <td>0.000000</td>\n",
       "      <td>-46.251000</td>\n",
       "      <td>0.000000</td>\n",
       "      <td>0.000001</td>\n",
       "      <td>0.000000</td>\n",
       "      <td>0.014500</td>\n",
       "      <td>0.000000</td>\n",
       "      <td>0.000000</td>\n",
       "      <td>3.098500e+04</td>\n",
       "      <td>0.000000e+00</td>\n",
       "      <td>0.000000e+00</td>\n",
       "      <td>0.000000e+00</td>\n",
       "      <td>6.574000e+03</td>\n",
       "    </tr>\n",
       "    <tr>\n",
       "      <th>25%</th>\n",
       "      <td>0.518000</td>\n",
       "      <td>0.507000</td>\n",
       "      <td>2.000000</td>\n",
       "      <td>-8.858000</td>\n",
       "      <td>0.035700</td>\n",
       "      <td>0.045200</td>\n",
       "      <td>0.000000</td>\n",
       "      <td>0.094100</td>\n",
       "      <td>0.339000</td>\n",
       "      <td>97.002000</td>\n",
       "      <td>1.800095e+05</td>\n",
       "      <td>1.826002e+06</td>\n",
       "      <td>2.158100e+04</td>\n",
       "      <td>5.090000e+02</td>\n",
       "      <td>1.767486e+07</td>\n",
       "    </tr>\n",
       "    <tr>\n",
       "      <th>50%</th>\n",
       "      <td>0.637000</td>\n",
       "      <td>0.666000</td>\n",
       "      <td>5.000000</td>\n",
       "      <td>-6.536000</td>\n",
       "      <td>0.050500</td>\n",
       "      <td>0.193000</td>\n",
       "      <td>0.000002</td>\n",
       "      <td>0.125000</td>\n",
       "      <td>0.537000</td>\n",
       "      <td>119.965000</td>\n",
       "      <td>2.132845e+05</td>\n",
       "      <td>1.450110e+07</td>\n",
       "      <td>1.244810e+05</td>\n",
       "      <td>3.277000e+03</td>\n",
       "      <td>4.968298e+07</td>\n",
       "    </tr>\n",
       "    <tr>\n",
       "      <th>75%</th>\n",
       "      <td>0.740250</td>\n",
       "      <td>0.798000</td>\n",
       "      <td>8.000000</td>\n",
       "      <td>-4.931000</td>\n",
       "      <td>0.103000</td>\n",
       "      <td>0.477250</td>\n",
       "      <td>0.000463</td>\n",
       "      <td>0.237000</td>\n",
       "      <td>0.726250</td>\n",
       "      <td>139.935000</td>\n",
       "      <td>2.524430e+05</td>\n",
       "      <td>7.039975e+07</td>\n",
       "      <td>5.221480e+05</td>\n",
       "      <td>1.436000e+04</td>\n",
       "      <td>1.383581e+08</td>\n",
       "    </tr>\n",
       "    <tr>\n",
       "      <th>max</th>\n",
       "      <td>0.975000</td>\n",
       "      <td>1.000000</td>\n",
       "      <td>11.000000</td>\n",
       "      <td>0.920000</td>\n",
       "      <td>0.964000</td>\n",
       "      <td>0.996000</td>\n",
       "      <td>1.000000</td>\n",
       "      <td>1.000000</td>\n",
       "      <td>0.993000</td>\n",
       "      <td>243.372000</td>\n",
       "      <td>4.676058e+06</td>\n",
       "      <td>8.079649e+09</td>\n",
       "      <td>5.078865e+07</td>\n",
       "      <td>1.608314e+07</td>\n",
       "      <td>3.386520e+09</td>\n",
       "    </tr>\n",
       "  </tbody>\n",
       "</table>\n",
       "</div>"
      ],
      "text/plain": [
       "       Danceability        Energy           Key      Loudness   Speechiness  \\\n",
       "count  20716.000000  20716.000000  20716.000000  20716.000000  20716.000000   \n",
       "mean       0.619777      0.635250      5.300348     -7.671680      0.096456   \n",
       "std        0.165272      0.214147      3.576449      4.632749      0.111960   \n",
       "min        0.000000      0.000020      0.000000    -46.251000      0.000000   \n",
       "25%        0.518000      0.507000      2.000000     -8.858000      0.035700   \n",
       "50%        0.637000      0.666000      5.000000     -6.536000      0.050500   \n",
       "75%        0.740250      0.798000      8.000000     -4.931000      0.103000   \n",
       "max        0.975000      1.000000     11.000000      0.920000      0.964000   \n",
       "\n",
       "       Acousticness  Instrumentalness      Liveness       Valence  \\\n",
       "count  20716.000000      20716.000000  20716.000000  20716.000000   \n",
       "mean       0.291535          0.055962      0.193521      0.529853   \n",
       "std        0.286299          0.193262      0.168531      0.245441   \n",
       "min        0.000001          0.000000      0.014500      0.000000   \n",
       "25%        0.045200          0.000000      0.094100      0.339000   \n",
       "50%        0.193000          0.000002      0.125000      0.537000   \n",
       "75%        0.477250          0.000463      0.237000      0.726250   \n",
       "max        0.996000          1.000000      1.000000      0.993000   \n",
       "\n",
       "              Tempo   Duration_ms         Views         Likes      Comments  \\\n",
       "count  20716.000000  2.071600e+04  2.024800e+04  2.017700e+04  2.014900e+04   \n",
       "mean     120.638340  2.247176e+05  9.393782e+07  6.633411e+05  2.751899e+04   \n",
       "std       29.579018  1.247905e+05  2.746443e+08  1.789324e+06  1.932347e+05   \n",
       "min        0.000000  3.098500e+04  0.000000e+00  0.000000e+00  0.000000e+00   \n",
       "25%       97.002000  1.800095e+05  1.826002e+06  2.158100e+04  5.090000e+02   \n",
       "50%      119.965000  2.132845e+05  1.450110e+07  1.244810e+05  3.277000e+03   \n",
       "75%      139.935000  2.524430e+05  7.039975e+07  5.221480e+05  1.436000e+04   \n",
       "max      243.372000  4.676058e+06  8.079649e+09  5.078865e+07  1.608314e+07   \n",
       "\n",
       "             Stream  \n",
       "count  2.014200e+04  \n",
       "mean   1.359422e+08  \n",
       "std    2.441321e+08  \n",
       "min    6.574000e+03  \n",
       "25%    1.767486e+07  \n",
       "50%    4.968298e+07  \n",
       "75%    1.383581e+08  \n",
       "max    3.386520e+09  "
      ]
     },
     "execution_count": 4,
     "metadata": {},
     "output_type": "execute_result"
    }
   ],
   "source": [
    "sfy_df.describe()"
   ]
  },
  {
   "cell_type": "markdown",
   "metadata": {},
   "source": [
    "### Vraag 1"
   ]
  },
  {
   "cell_type": "code",
   "execution_count": 5,
   "metadata": {},
   "outputs": [
    {
     "data": {
      "text/plain": [
       "<BarContainer object of 10 artists>"
      ]
     },
     "execution_count": 5,
     "metadata": {},
     "output_type": "execute_result"
    },
    {
     "data": {
      "image/png": "[encoded data removed]",
      "text/plain": [
       "<Figure size 640x480 with 1 Axes>"
      ]
     },
     "metadata": {},
     "output_type": "display_data"
    }
   ],
   "source": [
    "# 1.a. - top 10 artiesten naams x aantal streams\n",
    "artists_by_stream = sfy_df.groupby('Artist')['Stream'].sum().to_frame().reset_index()\n",
    "top_10_streamed_artists = artists_by_stream.sort_values('Stream', ascending=False).iloc[:10,:]\n",
    "\n",
    "plt.xticks(rotation=90)\n",
    "plt.bar(top_10_streamed_artists['Artist'], top_10_streamed_artists['Stream'])"
   ]
  },
  {
   "cell_type": "code",
   "execution_count": 6,
   "metadata": {},
   "outputs": [
    {
     "data": {
      "text/plain": [
       "<BarContainer object of 10 artists>"
      ]
     },
     "execution_count": 6,
     "metadata": {},
     "output_type": "execute_result"
    },
    {
     "data": {
      "image/png": "[encoded data removed]",
      "text/plain": [
       "<Figure size 640x480 with 1 Axes>"
      ]
     },
     "metadata": {},
     "output_type": "display_data"
    }
   ],
   "source": [
    "#1.b.\n",
    "artists_by_views = sfy_df.groupby('Artist')['Views'].sum().to_frame().reset_index()\n",
    "top_10_viewed_artists = artists_by_views.sort_values('Views', ascending=False).iloc[:10,:]\n",
    "\n",
    "plt.xticks(rotation=90)\n",
    "plt.bar(top_10_viewed_artists['Artist'], top_10_viewed_artists['Views'])"
   ]
  },
  {
   "cell_type": "code",
   "execution_count": 7,
   "metadata": {},
   "outputs": [
    {
     "data": {
      "text/html": [
       "<div>\n",
       "<style scoped>\n",
       "    .dataframe tbody tr th:only-of-type {\n",
       "        vertical-align: middle;\n",
       "    }\n",
       "\n",
       "    .dataframe tbody tr th {\n",
       "        vertical-align: top;\n",
       "    }\n",
       "\n",
       "    .dataframe thead th {\n",
       "        text-align: right;\n",
       "    }\n",
       "</style>\n",
       "<table border=\"1\" class=\"dataframe\">\n",
       "  <thead>\n",
       "    <tr style=\"text-align: right;\">\n",
       "      <th></th>\n",
       "      <th>Artist</th>\n",
       "      <th>Views</th>\n",
       "      <th>Stream</th>\n",
       "    </tr>\n",
       "  </thead>\n",
       "  <tbody>\n",
       "    <tr>\n",
       "      <th>0</th>\n",
       "      <td>Ed Sheeran</td>\n",
       "      <td>1.546021e+10</td>\n",
       "      <td>1.439488e+10</td>\n",
       "    </tr>\n",
       "    <tr>\n",
       "      <th>1</th>\n",
       "      <td>Justin Bieber</td>\n",
       "      <td>1.099106e+10</td>\n",
       "      <td>1.209777e+10</td>\n",
       "    </tr>\n",
       "    <tr>\n",
       "      <th>2</th>\n",
       "      <td>Bruno Mars</td>\n",
       "      <td>1.024092e+10</td>\n",
       "      <td>1.089786e+10</td>\n",
       "    </tr>\n",
       "    <tr>\n",
       "      <th>3</th>\n",
       "      <td>Coldplay</td>\n",
       "      <td>9.997278e+09</td>\n",
       "      <td>1.177848e+10</td>\n",
       "    </tr>\n",
       "  </tbody>\n",
       "</table>\n",
       "</div>"
      ],
      "text/plain": [
       "          Artist         Views        Stream\n",
       "0     Ed Sheeran  1.546021e+10  1.439488e+10\n",
       "1  Justin Bieber  1.099106e+10  1.209777e+10\n",
       "2     Bruno Mars  1.024092e+10  1.089786e+10\n",
       "3       Coldplay  9.997278e+09  1.177848e+10"
      ]
     },
     "execution_count": 7,
     "metadata": {},
     "output_type": "execute_result"
    }
   ],
   "source": [
    "pd.merge(top_10_viewed_artists, top_10_streamed_artists, how='inner')"
   ]
  },
  {
   "cell_type": "markdown",
   "metadata": {
    "vscode": {
     "languageId": "plaintext"
    }
   },
   "source": [
    "### Vraag 2"
   ]
  },
  {
   "cell_type": "code",
   "execution_count": 8,
   "metadata": {},
   "outputs": [
    {
     "data": {
      "text/plain": [
       "(array([  65.,  242.,  497., 1140., 2286., 3664., 4782., 4497., 2798.,\n",
       "         745.]),\n",
       " array([0.    , 0.0975, 0.195 , 0.2925, 0.39  , 0.4875, 0.585 , 0.6825,\n",
       "        0.78  , 0.8775, 0.975 ]),\n",
       " <BarContainer object of 10 artists>)"
      ]
     },
     "execution_count": 8,
     "metadata": {},
     "output_type": "execute_result"
    },
    {
     "data": {
      "image/png": "[encoded data removed]",
      "text/plain": [
       "<Figure size 640x480 with 1 Axes>"
      ]
     },
     "metadata": {},
     "output_type": "display_data"
    }
   ],
   "source": [
    "# 2.a. hist danceability\n",
    "plt.hist(sfy_df['Danceability'])"
   ]
  },
  {
   "cell_type": "code",
   "execution_count": 9,
   "metadata": {},
   "outputs": [
    {
     "data": {
      "text/plain": [
       "(array([1.700e+01, 1.200e+01, 3.560e+02, 4.910e+03, 5.695e+03, 5.842e+03,\n",
       "        2.402e+03, 1.274e+03, 2.050e+02, 3.000e+00]),\n",
       " array([  0.    ,  24.3372,  48.6744,  73.0116,  97.3488, 121.686 ,\n",
       "        146.0232, 170.3604, 194.6976, 219.0348, 243.372 ]),\n",
       " <BarContainer object of 10 artists>)"
      ]
     },
     "execution_count": 9,
     "metadata": {},
     "output_type": "execute_result"
    },
    {
     "data": {
      "image/png": "[encoded data removed]",
      "text/plain": [
       "<Figure size 640x480 with 1 Axes>"
      ]
     },
     "metadata": {},
     "output_type": "display_data"
    }
   ],
   "source": [
    "# 2.b. hist tempo\n",
    "plt.hist(sfy_df['Tempo'])"
   ]
  },
  {
   "cell_type": "markdown",
   "metadata": {},
   "source": [
    "2.c. Het lijkt als een inverse verband."
   ]
  },
  {
   "cell_type": "markdown",
   "metadata": {},
   "source": [
    "### Vraag 3"
   ]
  },
  {
   "cell_type": "code",
   "execution_count": 10,
   "metadata": {},
   "outputs": [
    {
     "data": {
      "text/plain": [
       "<matplotlib.collections.PathCollection at 0x1500cc800>"
      ]
     },
     "execution_count": 10,
     "metadata": {},
     "output_type": "execute_result"
    },
    {
     "data": {
      "image/png": "[encoded data removed]",
      "text/plain": [
       "<Figure size 640x480 with 1 Axes>"
      ]
     },
     "metadata": {},
     "output_type": "display_data"
    }
   ],
   "source": [
    "# 3.a. Met welke y variabele?\n",
    "plt.scatter(sfy_df['Duration_ms'], sfy_df['Duration_ms'])"
   ]
  },
  {
   "cell_type": "code",
   "execution_count": null,
   "metadata": {},
   "outputs": [
    {
     "data": {
      "text/plain": [
       "{'whiskers': [<matplotlib.lines.Line2D at 0x1501d6060>,\n",
       "  <matplotlib.lines.Line2D at 0x1501d59a0>],\n",
       " 'caps': [<matplotlib.lines.Line2D at 0x1500e0320>,\n",
       "  <matplotlib.lines.Line2D at 0x1501fd6d0>],\n",
       " 'boxes': [<matplotlib.lines.Line2D at 0x1500cf950>],\n",
       " 'medians': [<matplotlib.lines.Line2D at 0x1501ffb30>],\n",
       " 'fliers': [<matplotlib.lines.Line2D at 0x1501ff500>],\n",
       " 'means': []}"
      ]
     },
     "execution_count": 11,
     "metadata": {},
     "output_type": "execute_result"
    },
    {
     "data": {
      "image/png": "[encoded data removed]",
      "text/plain": [
       "<Figure size 640x480 with 1 Axes>"
      ]
     },
     "metadata": {},
     "output_type": "display_data"
    }
   ],
   "source": [
    "# 3.b. box plot duration\n",
    "# BUG: not showing anything \n",
    "plt.boxplot(sfy_df['Duration_ms'])"
   ]
  }
 ],
 "metadata": {
  "kernelspec": {
   "display_name": "base",
   "language": "python",
   "name": "python3"
  },
  "language_info": {
   "codemirror_mode": {
    "name": "ipython",
    "version": 3
   },
   "file_extension": ".py",
   "mimetype": "text/x-python",
   "name": "python",
   "nbconvert_exporter": "python",
   "pygments_lexer": "ipython3",
   "version": "3.12.2"
  }
 },
 "nbformat": 4,
 "nbformat_minor": 2
}
